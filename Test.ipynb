{
 "cells": [
  {
   "cell_type": "code",
   "execution_count": 1,
   "id": "a5ee3ad6",
   "metadata": {},
   "outputs": [],
   "source": [
    "import os\n",
    "import sys\n",
    "from tqdm.notebook import tqdm\n",
    "from IPython.display import clear_output\n",
    "\n",
    "current_dir = os.getcwd()\n",
    "parent_dir = os.path.abspath(os.path.join(current_dir, \"..\"))\n",
    "if parent_dir not in sys.path:\n",
    "    sys.path.insert(0, parent_dir)"
   ]
  },
  {
   "cell_type": "code",
   "execution_count": 2,
   "id": "e4b5212b",
   "metadata": {},
   "outputs": [],
   "source": [
    "from MatSamp import *\n",
    "import matplotlib.pyplot as plt\n",
    "import igraph as ig\n",
    "import networkx as nx\n",
    "from mpl_toolkits.axes_grid1.inset_locator import inset_axes\n",
    "import pickle\n",
    "\n",
    "plt.rcParams.update(\n",
    "    {\"text.usetex\": True, \"font.family\": \"STIXGeneral\", \"mathtext.fontset\": \"stix\"}\n",
    ")\n",
    "\n",
    "visual_style = {\n",
    "    \"vertex_size\": 5,\n",
    "    \"vertex_color\": \"white\",\n",
    "    \"vertex_frame_width\": 1,\n",
    "    \"edge_width\": 0.5,\n",
    "    \"bbox\": (400, 400),  # Size of the plot canvas\n",
    "    \"margin\": 20,\n",
    "    \"vertex_label_color\": \"black\",\n",
    "}"
   ]
  },
  {
   "cell_type": "code",
   "execution_count": 3,
   "id": "9d33b3e8",
   "metadata": {},
   "outputs": [],
   "source": [
    "n = 1024\n",
    "p = np.round(1.1 * np.log(n) / n, 2)\n",
    "# print(n, p)\n",
    "net = ig.Graph.Erdos_Renyi(n=n, p=p)\n",
    "# net = ig.Graph.K_Regular(n=n, k=4)"
   ]
  },
  {
   "cell_type": "code",
   "execution_count": 4,
   "id": "3704cee5",
   "metadata": {},
   "outputs": [],
   "source": [
    "A = ig_to_A(net)\n",
    "SNet = MatSamp(A, False)\n",
    "deg = SNet.deg\n",
    "n = SNet.n\n"
   ]
  },
  {
   "cell_type": "code",
   "execution_count": 5,
   "id": "8bed77c3",
   "metadata": {},
   "outputs": [],
   "source": [
    "sample_num = 1000000\n",
    "beta = 1e9\n"
   ]
  },
  {
   "cell_type": "code",
   "execution_count": 6,
   "id": "02d97e96",
   "metadata": {},
   "outputs": [],
   "source": [
    "samples_nb_swap = []\n",
    "samples_cb_swt = []"
   ]
  },
  {
   "cell_type": "code",
   "execution_count": 7,
   "id": "5530bfec",
   "metadata": {},
   "outputs": [
    {
     "data": {
      "application/vnd.jupyter.widget-view+json": {
       "model_id": "92fb9601f70c48e7a6ac3ab888d19141",
       "version_major": 2,
       "version_minor": 0
      },
      "text/plain": [
       "  0%|          | 0/1000000 [00:00<?, ?it/s]"
      ]
     },
     "metadata": {},
     "output_type": "display_data"
    },
    {
     "ename": "KeyboardInterrupt",
     "evalue": "",
     "output_type": "error",
     "traceback": [
      "\u001b[0;31m---------------------------------------------------------------------------\u001b[0m",
      "\u001b[0;31mKeyboardInterrupt\u001b[0m                         Traceback (most recent call last)",
      "Cell \u001b[0;32mIn[7], line 14\u001b[0m\n\u001b[1;32m     11\u001b[0m rnxt \u001b[38;5;241m=\u001b[39m SNet\u001b[38;5;241m.\u001b[39massortativity_coeff()\n\u001b[1;32m     13\u001b[0m \u001b[38;5;28;01mif\u001b[39;00m np\u001b[38;5;241m.\u001b[39mlog(np\u001b[38;5;241m.\u001b[39mrandom\u001b[38;5;241m.\u001b[39mrand()) \u001b[38;5;241m>\u001b[39m beta\u001b[38;5;241m*\u001b[39m(rcur\u001b[38;5;241m-\u001b[39mrnxt):\n\u001b[0;32m---> 14\u001b[0m     \u001b[43mSNet\u001b[49m\u001b[38;5;241;43m.\u001b[39;49m\u001b[43mswitch\u001b[49m\u001b[43m(\u001b[49m\u001b[43mswt\u001b[49m\u001b[43m)\u001b[49m\n\u001b[1;32m     16\u001b[0m ps, ns \u001b[38;5;241m=\u001b[39m SNet\u001b[38;5;241m.\u001b[39mcount_checker()\n\u001b[1;32m     17\u001b[0m samples_nb_swap\u001b[38;5;241m.\u001b[39mappend((SNet\u001b[38;5;241m.\u001b[39massortativity_coeff(),(ns\u001b[38;5;241m-\u001b[39mps)\u001b[38;5;241m/\u001b[39m(ps\u001b[38;5;241m+\u001b[39mns)))\n",
      "File \u001b[0;32m~/.local/lib/python3.10/site-packages/numba/experimental/jitclass/boxing.py:61\u001b[0m, in \u001b[0;36m_generate_method.<locals>.wrapper\u001b[0;34m(*args, **kwargs)\u001b[0m\n\u001b[1;32m     59\u001b[0m \u001b[38;5;129m@wraps\u001b[39m(func)\n\u001b[1;32m     60\u001b[0m \u001b[38;5;28;01mdef\u001b[39;00m\u001b[38;5;250m \u001b[39m\u001b[38;5;21mwrapper\u001b[39m(\u001b[38;5;241m*\u001b[39margs, \u001b[38;5;241m*\u001b[39m\u001b[38;5;241m*\u001b[39mkwargs):\n\u001b[0;32m---> 61\u001b[0m     \u001b[38;5;28;01mreturn\u001b[39;00m \u001b[43mmethod\u001b[49m\u001b[43m(\u001b[49m\u001b[38;5;241;43m*\u001b[39;49m\u001b[43margs\u001b[49m\u001b[43m,\u001b[49m\u001b[43m \u001b[49m\u001b[38;5;241;43m*\u001b[39;49m\u001b[38;5;241;43m*\u001b[39;49m\u001b[43mkwargs\u001b[49m\u001b[43m)\u001b[49m\n",
      "\u001b[0;31mKeyboardInterrupt\u001b[0m: "
     ]
    }
   ],
   "source": [
    "# sample = 0\n",
    "A = ig_to_A(net)\n",
    "SNet = MatSamp(A, False)\n",
    "SNet.trackCheckerboard = True\n",
    "\n",
    "for i in tqdm(range(sample_num)):\n",
    "    swt = SNet.next(\"rand\")\n",
    "\n",
    "    rcur = SNet.assortativity_coeff()\n",
    "    SNet.switch(swt)\n",
    "    rnxt = SNet.assortativity_coeff()\n",
    "\n",
    "    if np.log(np.random.rand()) > beta*(rcur-rnxt):\n",
    "        SNet.switch(swt)\n",
    "\n",
    "    ps, ns = SNet.count_checker()\n",
    "    samples_nb_swap.append((SNet.assortativity_coeff(),(ns-ps)/(ps+ns)))"
   ]
  },
  {
   "cell_type": "code",
   "execution_count": 8,
   "id": "dab76f29",
   "metadata": {},
   "outputs": [
    {
     "data": {
      "application/vnd.jupyter.widget-view+json": {
       "model_id": "a160cc77b1334bf9a8df4caab0a6919e",
       "version_major": 2,
       "version_minor": 0
      },
      "text/plain": [
       "  0%|          | 0/1000000 [00:00<?, ?it/s]"
      ]
     },
     "metadata": {},
     "output_type": "display_data"
    },
    {
     "ename": "KeyboardInterrupt",
     "evalue": "",
     "output_type": "error",
     "traceback": [
      "\u001b[0;31m---------------------------------------------------------------------------\u001b[0m",
      "\u001b[0;31mKeyboardInterrupt\u001b[0m                         Traceback (most recent call last)",
      "Cell \u001b[0;32mIn[8], line 41\u001b[0m\n\u001b[1;32m     39\u001b[0m \u001b[38;5;66;03m# switch back\u001b[39;00m\n\u001b[1;32m     40\u001b[0m \u001b[38;5;28;01mif\u001b[39;00m np\u001b[38;5;241m.\u001b[39mlog(np\u001b[38;5;241m.\u001b[39mrandom\u001b[38;5;241m.\u001b[39mrand()) \u001b[38;5;241m>\u001b[39m beta\u001b[38;5;241m*\u001b[39m(rcur\u001b[38;5;241m-\u001b[39mrnxt) \u001b[38;5;241m+\u001b[39m gnxt \u001b[38;5;241m-\u001b[39m gcur:\n\u001b[0;32m---> 41\u001b[0m     \u001b[43mSNet\u001b[49m\u001b[38;5;241;43m.\u001b[39;49m\u001b[43mswitch\u001b[49m\u001b[43m(\u001b[49m\u001b[43mswt\u001b[49m\u001b[43m)\u001b[49m\n\u001b[1;32m     43\u001b[0m ps, ns \u001b[38;5;241m=\u001b[39m SNet\u001b[38;5;241m.\u001b[39mcount_checker()\n\u001b[1;32m     44\u001b[0m samples_cb_swt\u001b[38;5;241m.\u001b[39mappend((SNet\u001b[38;5;241m.\u001b[39massortativity_coeff(),(ns\u001b[38;5;241m-\u001b[39mps)\u001b[38;5;241m/\u001b[39m(ps\u001b[38;5;241m+\u001b[39mns)))\n",
      "File \u001b[0;32m~/.local/lib/python3.10/site-packages/numba/experimental/jitclass/boxing.py:61\u001b[0m, in \u001b[0;36m_generate_method.<locals>.wrapper\u001b[0;34m(*args, **kwargs)\u001b[0m\n\u001b[1;32m     59\u001b[0m \u001b[38;5;129m@wraps\u001b[39m(func)\n\u001b[1;32m     60\u001b[0m \u001b[38;5;28;01mdef\u001b[39;00m\u001b[38;5;250m \u001b[39m\u001b[38;5;21mwrapper\u001b[39m(\u001b[38;5;241m*\u001b[39margs, \u001b[38;5;241m*\u001b[39m\u001b[38;5;241m*\u001b[39mkwargs):\n\u001b[0;32m---> 61\u001b[0m     \u001b[38;5;28;01mreturn\u001b[39;00m \u001b[43mmethod\u001b[49m\u001b[43m(\u001b[49m\u001b[38;5;241;43m*\u001b[39;49m\u001b[43margs\u001b[49m\u001b[43m,\u001b[49m\u001b[43m \u001b[49m\u001b[38;5;241;43m*\u001b[39;49m\u001b[38;5;241;43m*\u001b[39;49m\u001b[43mkwargs\u001b[49m\u001b[43m)\u001b[49m\n",
      "\u001b[0;31mKeyboardInterrupt\u001b[0m: "
     ]
    }
   ],
   "source": [
    "A = ig_to_A(net)\n",
    "SNet = MatSamp(A, False)\n",
    "SNet.trackCheckerboard = True\n",
    "\n",
    "for i in tqdm(range(sample_num)):\n",
    "    pscur, nscur = SNet.count_checker()\n",
    "    rcur = SNet.assortativity_coeff()\n",
    "\n",
    "    if pscur == 0:\n",
    "        rho_cur = 0\n",
    "        posswt = False\n",
    "    elif nscur == 0:\n",
    "        rho_cur = 1\n",
    "        posswt = True\n",
    "    else:\n",
    "        rho_cur = 0.5\n",
    "        # rho_cur = (kappa / 2 - qcur) / kappa\n",
    "        p_posswt = np.random.rand()\n",
    "        posswt = p_posswt < rho_cur\n",
    "\n",
    "    swt = find_random_checker(\n",
    "        SNet.A, SNet.pc, SNet.nc, SNet.pc_rows, SNet.nc_rows, posswt\n",
    "    )\n",
    "\n",
    "    SNet.switch(swt)\n",
    "    rnxt = SNet.assortativity_coeff()\n",
    "    psnxt, nsnxt = SNet.count_checker()\n",
    "\n",
    "    if psnxt == 0:\n",
    "        rho_nxt = 0\n",
    "    elif nsnxt == 0:\n",
    "        rho_nxt = 1\n",
    "    else:\n",
    "        rho_nxt = 0.5\n",
    "\n",
    "    gcur = np.log((rho_cur / pscur if posswt else (1 - rho_cur) / nscur))\n",
    "    gnxt = np.log(((1 - rho_nxt) / nsnxt if posswt else rho_nxt / psnxt))\n",
    "\n",
    "    # switch back\n",
    "    if np.log(np.random.rand()) > beta*(rcur-rnxt) + gnxt - gcur:\n",
    "        SNet.switch(swt)\n",
    "\n",
    "    ps, ns = SNet.count_checker()\n",
    "    samples_cb_swt.append((SNet.assortativity_coeff(),(ns-ps)/(ps+ns)))"
   ]
  },
  {
   "cell_type": "code",
   "execution_count": 10,
   "id": "a6b866da",
   "metadata": {},
   "outputs": [
    {
     "data": {
      "image/png": "[encoded data removed]",
      "text/plain": [
       "<Figure size 800x400 with 2 Axes>"
      ]
     },
     "metadata": {},
     "output_type": "display_data"
    }
   ],
   "source": [
    "fig, ax = plt.subplots(1, 2,figsize = (8,4))\n",
    "x1 = [i[0] for i in samples_nb_swap]\n",
    "y1 = [i[1] for i in samples_nb_swap]\n",
    "\n",
    "x2 = [i[0] for i in samples_cb_swt]\n",
    "y2 = [i[1] for i in samples_cb_swt]\n",
    "\n",
    "binx = np.linspace(min(x1+x2), max(x1+x2), 100)\n",
    "biny = np.linspace(min(y1+y2), max(y1+y2), 1000)\n",
    "# plt.subplots(2,1)\n",
    "ax[0].hist2d(x1, y1, bins=(binx, biny));\n",
    "ax[1].hist2d(x2, y2, bins=(binx, biny));"
   ]
  }
 ],
 "metadata": {
  "kernelspec": {
   "display_name": "Python 3",
   "language": "python",
   "name": "python3"
  },
  "language_info": {
   "codemirror_mode": {
    "name": "ipython",
    "version": 3
   },
   "file_extension": ".py",
   "mimetype": "text/x-python",
   "name": "python",
   "nbconvert_exporter": "python",
   "pygments_lexer": "ipython3",
   "version": "3.10.12"
  }
 },
 "nbformat": 4,
 "nbformat_minor": 5
}
